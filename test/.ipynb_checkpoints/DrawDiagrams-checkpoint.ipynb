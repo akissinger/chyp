{
 "cells": [
  {
   "cell_type": "code",
   "execution_count": 1,
   "id": "95f01c92-a9e0-4313-9bdc-074d6240f7f0",
   "metadata": {},
   "outputs": [],
   "source": [
    "from __future__ import annotations\n",
    "from typing import Dict, List, Optional, Tuple\n",
    "\n",
    "import os.path\n",
    "from typing import Any, Dict, List, Optional, Tuple\n",
    "import lark\n",
    "from lark import v_args\n",
    "from lark.tree import Meta\n",
    "\n",
    "from chyp import parser\n",
    "from chyp.graph import Graph, GraphError, gen, perm, identity, redistributer\n",
    "from chyp.rule import Rule, RuleError\n",
    "from chyp.tactic import Tactic\n",
    "from chyp.tactic.simptac import SimpTac\n",
    "from chyp.tactic.ruletac import RuleTac\n",
    "from chyp.gui.graphscene import GraphScene\n",
    "from chyp.layout import convex_layout\n",
    "\n",
    "from PySide6.QtWidgets import QApplication\n",
    "import sys\n",
    "from IPython.display import Image"
   ]
  },
  {
   "cell_type": "code",
   "execution_count": 2,
   "id": "e7676535-966a-4dc2-b9f2-6ce0bfd34760",
   "metadata": {},
   "outputs": [],
   "source": [
    "class Painter: \n",
    "    def __init__(self): \n",
    "        # Counter for images\n",
    "        self.cnt = 0 \n",
    "        self.app = QApplication(sys.argv)\n",
    "        self.gs = GraphScene()\n",
    "\n",
    "    def draw(self, g: Graph, scale=1): \n",
    "        convex_layout(g)\n",
    "        self.gs.set_graph(g)\n",
    "        self.gs.save(f'graph-{self.cnt}.png', scale=scale)\n",
    "        img = Image(filename=f'graph-{self.cnt}.png')\n",
    "        self.cnt += 1\n",
    "        return img\n",
    "\n",
    "\n",
    "p = Painter()\n",
    "def draw(g: Graph, scale=1): \n",
    "    return p.draw(g, scale=scale)"
   ]
  },
  {
   "cell_type": "code",
   "execution_count": 45,
   "id": "d4734e64-8e74-49cd-a6c5-62ca7398ee22",
   "metadata": {},
   "outputs": [],
   "source": [
    "code = \"\"\"\n",
    "gen g: A -> B\n",
    "gen f: B -> A\n",
    "gen h: A -> A\n",
    "\n",
    "rule foo: \n",
    "    h = g ; f \n",
    "\n",
    "rewrite r1: \n",
    "    h * id = (g ; f) * id by foo\n",
    "\"\"\"\n",
    "\n",
    "state = parser.parse(code)\n",
    "\n",
    "for e in state.errors: \n",
    "    print(f\"Error at line {e[1]}: {e[2]}\")"
   ]
  },
  {
   "cell_type": "code",
   "execution_count": 42,
   "id": "6d3c582f-b492-4678-8230-507e85e04b12",
   "metadata": {},
   "outputs": [
    {
     "data": {
      "image/png": "[encoded data removed]",
      "text/plain": [
       "<IPython.core.display.Image object>"
      ]
     },
     "execution_count": 42,
     "metadata": {},
     "output_type": "execute_result"
    }
   ],
   "source": [
    "draw(state.rewrites['r1:0'].lhs)"
   ]
  },
  {
   "cell_type": "code",
   "execution_count": 46,
   "id": "21cbf365-ecdf-47da-9da7-1348ae767396",
   "metadata": {},
   "outputs": [
    {
     "data": {
      "image/png": "[encoded data removed]",
      "text/plain": [
       "<IPython.core.display.Image object>"
      ]
     },
     "execution_count": 46,
     "metadata": {},
     "output_type": "execute_result"
    }
   ],
   "source": [
    "draw(state.rewrites['r1:0'].rhs)"
   ]
  }
 ],
 "metadata": {
  "kernelspec": {
   "display_name": "Python 3 (ipykernel)",
   "language": "python",
   "name": "python3"
  },
  "language_info": {
   "codemirror_mode": {
    "name": "ipython",
    "version": 3
   },
   "file_extension": ".py",
   "mimetype": "text/x-python",
   "name": "python",
   "nbconvert_exporter": "python",
   "pygments_lexer": "ipython3",
   "version": "3.12.6"
  }
 },
 "nbformat": 4,
 "nbformat_minor": 5
}
