{
 "cells": [
  {
   "cell_type": "code",
   "execution_count": 1,
   "id": "2cf87cda-b00a-4161-8556-1397b9688ba4",
   "metadata": {},
   "outputs": [],
   "source": [
    "from collections import Counter, defaultdict\n",
    "from itertools import zip_longest\n",
    "from chyp.polynomial import * \n",
    "from lark import Lark, Transformer\n",
    "\n",
    "\n",
    "# Define the Lark grammar for parsing any polynomial expression with general variable names\n",
    "grammar = r\"\"\"\n",
    "    ?start: expr              \n",
    "    \n",
    "    ?expr: term ((\"+\" term) | sub_term)*   -> add\n",
    "    ?sub_term: (\"-\" term) -> sub\n",
    "    \n",
    "    term: num                              \n",
    "         | monomial             \n",
    "         | num \"*\" monomial\n",
    "\n",
    "    \n",
    "    monomial: var_term (\"*\" var_term)*\n",
    "    ?var_term: var \n",
    "             | var \"^\" num -> pow\n",
    "             \n",
    "\n",
    "    var: IDENT -> var\n",
    "    \n",
    "    num : INT -> number\n",
    "        | \"-\"INT -> neg_number\n",
    "        \n",
    "    IDENT: (\"_\"|LETTER) (\"_\"|\".\"|LETTER|DIGIT)*\n",
    "    \n",
    "    %import common.LETTER\n",
    "    %import common.DIGIT\n",
    "    %import common.HEXDIGIT\n",
    "    %import common.INT\n",
    "    %import common.WS\n",
    "    %import common.SH_COMMENT\n",
    "    %ignore WS\n",
    "    %ignore SH_COMMENT\n",
    "\"\"\"\n",
    "\n",
    "\n",
    "# Transformer class to convert parse tree into Polynomial terms\n",
    "class PolynomialTransformer(Transformer):\n",
    "    def __init__(self):\n",
    "        super().__init__()\n",
    "        self.vars = []\n",
    "        self.nvars = 0\n",
    "\n",
    "    def number(self, n):\n",
    "        value = int(n[0])\n",
    "        return int(n[0])\n",
    "\n",
    "    def neg_number(self, n):\n",
    "        value = int(n[0])\n",
    "        return -int(n[0])\n",
    "\n",
    "    def var(self, v):\n",
    "        var = v[0][0]\n",
    "\n",
    "        if var not in self.vars: \n",
    "            self.vars.append(var)\n",
    "            self.nvars += 1\n",
    "        \n",
    "        return (var, 1)\n",
    "\n",
    "    def pow(self, args):\n",
    "        var = args[0][0]\n",
    "        power = args[0][1]\n",
    "        new_power = args[1]\n",
    "        \n",
    "        return (var, power + new_power - 1)\n",
    "\n",
    "    def add(self, args):\n",
    "        return Polynomial(args, subs=self.vars)\n",
    "\n",
    "    def sub(self, args):\n",
    "        monomial = args[0][0]\n",
    "        coeff = args[0][1] \n",
    "        \n",
    "        return (monomial, -coeff)\n",
    "        \n",
    "\n",
    "    def term(self, args):\n",
    "        if len(args) == 1: \n",
    "            a = args[0]\n",
    "            if isinstance(a, int): \n",
    "                # The term only has a coefficient \n",
    "                return ((0,), a)\n",
    "            else: \n",
    "                # The term only has a monomial \n",
    "                return (a, 1)\n",
    "\n",
    "        # The term has a coefficient and a monomial \n",
    "        coeff = args[0]\n",
    "        monomial = args[1]\n",
    "            \n",
    "        return (monomial, coeff)\n",
    "\n",
    "    def monomial(self, args):\n",
    "        c = Counter() \n",
    "        for var, power in args: \n",
    "            c[var] += power\n",
    "    \n",
    "        # Get the variable indices and their respective powers \n",
    "        # we need to do everything in reverse order because \n",
    "        # we use zip_longest to pair variables to their powers \n",
    "        # and we always want to start with the latest variable\n",
    "        vs     = reversed(range(self.nvars))\n",
    "        powers = map(lambda x: c[x], reversed(c.keys()))\n",
    "\n",
    "        # Pair the variables to their powers, filling in 0 if the \n",
    "        # variable does not occur in this monomial. \n",
    "        # Then take only the power\n",
    "        exps = map(lambda x: x[1], # Take the second value\n",
    "                   zip_longest(vs, powers, fillvalue=0))\n",
    "\n",
    "        # We need to put back everything into the correct order\n",
    "        exps = list(reversed(list(exps)))\n",
    "        \n",
    "        return tuple(exps)\n",
    "\n",
    "\n",
    "\n",
    "# Define the Lark parser\n",
    "parser = Lark(grammar, parser=\"lalr\")\n",
    "\n",
    "# Function to parse an expression and return a Polynomial object\n",
    "def parse(expression):\n",
    "    tree = parser.parse(expression)\n",
    "    transformer = PolynomialTransformer()\n",
    "    return transformer.transform(tree)"
   ]
  },
  {
   "cell_type": "code",
   "execution_count": 2,
   "id": "00161ef2-d130-467f-b397-ceb9ac41293b",
   "metadata": {
    "scrolled": true
   },
   "outputs": [
    {
     "name": "stdout",
     "output_type": "stream",
     "text": [
      "Counter({(1, 2): 3, (0, 0, 2): 2, (0,): 1, (0, 0, 1): 1})\n",
      "Counter({(0, 1, 2): 3, (2,): 2, (0,): 1, (1,): 1})\n"
     ]
    },
    {
     "data": {
      "text/latex": [
       "$\\displaystyle 1 + 3xy^2 + z + 2z^2$"
      ],
      "text/plain": [
       "<IPython.core.display.Math object>"
      ]
     },
     "metadata": {},
     "output_type": "display_data"
    },
    {
     "data": {
      "text/latex": [
       "$\\displaystyle 1 + z + 2z^2 + 3xy^2$"
      ],
      "text/plain": [
       "<IPython.core.display.Math object>"
      ]
     },
     "metadata": {},
     "output_type": "display_data"
    },
    {
     "data": {
      "text/plain": [
       "True"
      ]
     },
     "execution_count": 2,
     "metadata": {},
     "output_type": "execute_result"
    }
   ],
   "source": [
    "p = parse(\"1 + 3 * x * y^2 + z + z^2 + z^2\")\n",
    "p1 = parse(\"1 + z + z^2 + z^2 + 3 * x * y^2\")\n",
    "\n",
    "print(p.terms)\n",
    "print(p1.terms)\n",
    "\n",
    "show(p, p1)\n",
    "\n",
    "# Because this substitutes variables\n",
    "# as  x = 1, y = 1, z = 8 in p \n",
    "# but z = 1, x = 1, y = 8 in p1\n",
    "p(1, 1, 8) == p1(1, 1, 8)\n",
    "\n",
    "p == p1"
   ]
  },
  {
   "cell_type": "code",
   "execution_count": 3,
   "id": "fc1a4117-72cb-4daa-9e8e-7a8ecced68e7",
   "metadata": {},
   "outputs": [
    {
     "data": {
      "text/latex": [
       "$\\displaystyle 1$"
      ],
      "text/plain": [
       "<IPython.core.display.Math object>"
      ]
     },
     "metadata": {},
     "output_type": "display_data"
    }
   ],
   "source": [
    "p = parse(\"1\") \n",
    "\n",
    "show(p)"
   ]
  }
 ],
 "metadata": {
  "kernelspec": {
   "display_name": "Python 3 (ipykernel)",
   "language": "python",
   "name": "python3"
  },
  "language_info": {
   "codemirror_mode": {
    "name": "ipython",
    "version": 3
   },
   "file_extension": ".py",
   "mimetype": "text/x-python",
   "name": "python",
   "nbconvert_exporter": "python",
   "pygments_lexer": "ipython3",
   "version": "3.12.7"
  }
 },
 "nbformat": 4,
 "nbformat_minor": 5
}
