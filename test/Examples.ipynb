{
 "cells": [
  {
   "cell_type": "code",
   "execution_count": 2,
   "id": "e7676535-966a-4dc2-b9f2-6ce0bfd34760",
   "metadata": {},
   "outputs": [],
   "source": [
    "from painter import *"
   ]
  },
  {
   "cell_type": "code",
   "execution_count": 3,
   "id": "95f01c92-a9e0-4313-9bdc-074d6240f7f0",
   "metadata": {},
   "outputs": [],
   "source": [
    "from chyp import parser\n",
    "from chyp.polynomial import Polynomial, show"
   ]
  },
  {
   "cell_type": "code",
   "execution_count": 4,
   "id": "4da7ece5-ea54-4e30-8c1b-baf38c30f7b4",
   "metadata": {},
   "outputs": [],
   "source": [
    "def parse(code): \n",
    "    state = parser.parse(code)\n",
    "    \n",
    "    for e in state.errors: \n",
    "        print(f\"Error at line {e[1]}: {e[2]}\")\n",
    "\n",
    "    return state"
   ]
  },
  {
   "cell_type": "code",
   "execution_count": 5,
   "id": "c51ae79d-a4ed-4df6-bce0-77826ff73f10",
   "metadata": {},
   "outputs": [
    {
     "name": "stdout",
     "output_type": "stream",
     "text": [
      "Error at line 1: Variables ['m'] used but not defined!\n"
     ]
    },
    {
     "data": {
      "text/plain": [
       "<chyp.state.State at 0x1560cb650>"
      ]
     },
     "execution_count": 5,
     "metadata": {},
     "output_type": "execute_result"
    }
   ],
   "source": [
    "# Error for undefined var\n",
    "parse(\"family f(n): u^n + m -> 1\")"
   ]
  },
  {
   "cell_type": "code",
   "execution_count": 6,
   "id": "88ef8383-2d43-4646-a3a2-32827b3dda74",
   "metadata": {},
   "outputs": [
    {
     "name": "stdout",
     "output_type": "stream",
     "text": [
      "Error at line 1: Types ['a'] shadow arguments!\n"
     ]
    },
    {
     "data": {
      "text/plain": [
       "<chyp.state.State at 0x153440440>"
      ]
     },
     "execution_count": 6,
     "metadata": {},
     "output_type": "execute_result"
    }
   ],
   "source": [
    "# Error for shadowed var\n",
    "parse(\"family f(a): a -> a\")"
   ]
  },
  {
   "cell_type": "code",
   "execution_count": 13,
   "id": "06e28905-0b46-4e6f-96aa-51ee111cce9e",
   "metadata": {},
   "outputs": [
    {
     "data": {
      "image/png": "[encoded data removed]",
      "text/plain": [
       "<IPython.core.display.Image object>"
      ]
     },
     "execution_count": 13,
     "metadata": {},
     "output_type": "execute_result"
    }
   ],
   "source": [
    "state = parse(\"family f(x, y): A^(x * x + x) -> u^(1 + y - 1)\")\n",
    "draw(state.graphs['f'], scale=2)"
   ]
  },
  {
   "cell_type": "code",
   "execution_count": 19,
   "id": "77568c01-8d8c-4484-a654-fd0366f0c36b",
   "metadata": {},
   "outputs": [
    {
     "data": {
      "image/png": "[encoded data removed]",
      "text/plain": [
       "<IPython.core.display.Image object>"
      ]
     },
     "execution_count": 19,
     "metadata": {},
     "output_type": "execute_result"
    }
   ],
   "source": [
    "state = parse(\"family f: 1 + 1 - 1 -> 1 + 2\")\n",
    "draw(state.graphs['f'], scale=2)"
   ]
  },
  {
   "cell_type": "code",
   "execution_count": 21,
   "id": "d4734e64-8e74-49cd-a6c5-62ca7398ee22",
   "metadata": {},
   "outputs": [
    {
     "data": {
      "image/png": "[encoded data removed]",
      "text/plain": [
       "<IPython.core.display.Image object>"
      ]
     },
     "execution_count": 21,
     "metadata": {},
     "output_type": "execute_result"
    }
   ],
   "source": [
    "# I need to work on the matching\n",
    "code = \"\"\"\n",
    "family f(n): u^n -> u^n\n",
    "family g(x): u^x -> u^x\n",
    "\n",
    "let h = f ; g\n",
    "\"\"\"\n",
    "\n",
    "state = parse(code)\n",
    "\n",
    "draw(state.graphs['h'], scale=2)"
   ]
  }
 ],
 "metadata": {
  "kernelspec": {
   "display_name": "Python 3 (ipykernel)",
   "language": "python",
   "name": "python3"
  },
  "language_info": {
   "codemirror_mode": {
    "name": "ipython",
    "version": 3
   },
   "file_extension": ".py",
   "mimetype": "text/x-python",
   "name": "python",
   "nbconvert_exporter": "python",
   "pygments_lexer": "ipython3",
   "version": "3.12.7"
  }
 },
 "nbformat": 4,
 "nbformat_minor": 5
}
