{
 "cells": [
  {
   "cell_type": "code",
   "execution_count": 1,
   "id": "95f01c92-a9e0-4313-9bdc-074d6240f7f0",
   "metadata": {},
   "outputs": [],
   "source": [
    "from __future__ import annotations\n",
    "from typing import Dict, List, Optional, Tuple\n",
    "\n",
    "import os.path\n",
    "from typing import Any, Dict, List, Optional, Tuple\n",
    "import lark\n",
    "from lark import v_args\n",
    "from lark.tree import Meta\n",
    "\n",
    "from chyp import parser\n",
    "from chyp.graph import Graph, GraphError, gen, perm, identity, redistributer\n",
    "from chyp.rule import Rule, RuleError\n",
    "from chyp.tactic import Tactic\n",
    "from chyp.tactic.simptac import SimpTac\n",
    "from chyp.tactic.ruletac import RuleTac\n",
    "from chyp.gui.graphscene import GraphScene\n",
    "from chyp.layout import convex_layout\n",
    "\n",
    "from PySide6.QtWidgets import QApplication\n",
    "import sys\n",
    "from IPython.display import Image"
   ]
  },
  {
   "cell_type": "code",
   "execution_count": 2,
   "id": "e7676535-966a-4dc2-b9f2-6ce0bfd34760",
   "metadata": {},
   "outputs": [],
   "source": [
    "class Painter: \n",
    "    def __init__(self): \n",
    "        # Counter for images\n",
    "        self.cnt = 0 \n",
    "        self.app = QApplication(sys.argv)\n",
    "        self.gs = GraphScene()\n",
    "\n",
    "    def draw(self, g: Graph, scale=1): \n",
    "        convex_layout(g)\n",
    "        self.gs.set_graph(g)\n",
    "        self.gs.save(f'graph-{self.cnt}.png', scale=scale)\n",
    "        img = Image(filename=f'graph-{self.cnt}.png')\n",
    "        self.cnt += 1\n",
    "        return img\n",
    "\n",
    "\n",
    "p = Painter()\n",
    "def draw(g: Graph, scale=1): \n",
    "    return p.draw(g, scale=scale)"
   ]
  },
  {
   "cell_type": "code",
   "execution_count": 3,
   "id": "d4734e64-8e74-49cd-a6c5-62ca7398ee22",
   "metadata": {},
   "outputs": [
    {
     "name": "stdout",
     "output_type": "stream",
     "text": [
      "<lark.tree.Meta object at 0x121c79ac0> ['f', ['x', 'y', 'z'], [('x', 1)], [(None, 1), (None, 1), (None, 1), (None, 1)]]\n"
     ]
    }
   ],
   "source": [
    "code = \"\"\"\n",
    "family f(x, y, z): x -> 4\n",
    "\"\"\"\n",
    "\n",
    "code2 = \"\"\"\n",
    "gen f: 1 -> 1\n",
    "\"\"\"\n",
    "\n",
    "state = parser.parse(code)\n",
    "\n",
    "for e in state.errors: \n",
    "    print(f\"Error at line {e[1]}: {e[2]}\")"
   ]
  },
  {
   "cell_type": "code",
   "execution_count": 4,
   "id": "9925af9e-1522-4a2b-9f90-ecf9181a3b2b",
   "metadata": {},
   "outputs": [
    {
     "data": {
      "image/png": "[encoded data removed]",
      "text/plain": [
       "<IPython.core.display.Image object>"
      ]
     },
     "execution_count": 4,
     "metadata": {},
     "output_type": "execute_result"
    }
   ],
   "source": [
    "draw(state.graphs['f'])"
   ]
  },
  {
   "cell_type": "code",
   "execution_count": 1,
   "id": "72d139b1-93b3-4e49-ac08-da3f0b0d1e28",
   "metadata": {},
   "outputs": [],
   "source": [
    "from chyp.polynomial import MPolynomial as MPoly"
   ]
  },
  {
   "cell_type": "code",
   "execution_count": 13,
   "id": "1a9a2246-656d-4254-b41e-2e43e119c0e3",
   "metadata": {},
   "outputs": [
    {
     "name": "stdout",
     "output_type": "stream",
     "text": [
      "3*x + 2*x^2*y^5\n"
     ]
    },
    {
     "data": {
      "text/plain": [
       "262"
      ]
     },
     "execution_count": 13,
     "metadata": {},
     "output_type": "execute_result"
    }
   ],
   "source": [
    "p1 = MPoly([\n",
    "     (2, {0: 2, 1: 5}),  \n",
    "     (3, {0: 1}),\n",
    "     ], vars = ['x', 'y'])\n",
    "\n",
    "print(p1)\n",
    "p1.eval(x=2, y=2)"
   ]
  }
 ],
 "metadata": {
  "kernelspec": {
   "display_name": "Python 3 (ipykernel)",
   "language": "python",
   "name": "python3"
  },
  "language_info": {
   "codemirror_mode": {
    "name": "ipython",
    "version": 3
   },
   "file_extension": ".py",
   "mimetype": "text/x-python",
   "name": "python",
   "nbconvert_exporter": "python",
   "pygments_lexer": "ipython3",
   "version": "3.12.6"
  }
 },
 "nbformat": 4,
 "nbformat_minor": 5
}
