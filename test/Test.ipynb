{
 "cells": [
  {
   "cell_type": "code",
   "execution_count": 1,
   "id": "e7676535-966a-4dc2-b9f2-6ce0bfd34760",
   "metadata": {},
   "outputs": [],
   "source": [
    "from painter import *"
   ]
  },
  {
   "cell_type": "code",
   "execution_count": 2,
   "id": "95f01c92-a9e0-4313-9bdc-074d6240f7f0",
   "metadata": {
    "jupyter": {
     "source_hidden": true
    }
   },
   "outputs": [],
   "source": [
    "from chyp import parser\n",
    "from chyp.polynomial import Polynomial, show"
   ]
  },
  {
   "cell_type": "code",
   "execution_count": 3,
   "id": "4da7ece5-ea54-4e30-8c1b-baf38c30f7b4",
   "metadata": {},
   "outputs": [],
   "source": [
    "def parse(code): \n",
    "    state = parser.parse(code)\n",
    "    \n",
    "    for e in state.errors: \n",
    "        print(f\"Error at line {e[1]}: {e[2]}\")\n",
    "\n",
    "    return state"
   ]
  },
  {
   "cell_type": "code",
   "execution_count": 44,
   "id": "d4734e64-8e74-49cd-a6c5-62ca7398ee22",
   "metadata": {},
   "outputs": [
    {
     "data": {
      "image/png": "[encoded data removed]",
      "text/plain": [
       "<IPython.core.display.Image object>"
      ]
     },
     "execution_count": 44,
     "metadata": {},
     "output_type": "execute_result"
    }
   ],
   "source": [
    "code = \"\"\"\n",
    "family f(n): u^n -> u^n\n",
    "family g(x): u^x -> u^x\n",
    "\n",
    "let h = f ; g\n",
    "\"\"\"\n",
    "\n",
    "state = parse(code)\n",
    "\n",
    "f = state.graphs['h']\n",
    "\n",
    "draw(f, scale=2)"
   ]
  }
 ],
 "metadata": {
  "kernelspec": {
   "display_name": "Python 3 (ipykernel)",
   "language": "python",
   "name": "python3"
  },
  "language_info": {
   "codemirror_mode": {
    "name": "ipython",
    "version": 3
   },
   "file_extension": ".py",
   "mimetype": "text/x-python",
   "name": "python",
   "nbconvert_exporter": "python",
   "pygments_lexer": "ipython3",
   "version": "3.12.7"
  }
 },
 "nbformat": 4,
 "nbformat_minor": 5
}
